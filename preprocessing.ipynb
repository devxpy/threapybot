{
 "cells": [
  {
   "cell_type": "code",
   "execution_count": 1,
   "id": "53ce75ef-08a8-4a75-9d3c-e8f2902b8f33",
   "metadata": {},
   "outputs": [
    {
     "name": "stderr",
     "output_type": "stream",
     "text": [
      "/home/dev/therapybot/venv/lib/python3.8/site-packages/tqdm/auto.py:21: TqdmWarning: IProgress not found. Please update jupyter and ipywidgets. See https://ipywidgets.readthedocs.io/en/stable/user_install.html\n",
      "  from .autonotebook import tqdm as notebook_tqdm\n"
     ]
    }
   ],
   "source": [
    "import openai\n",
    "import pandas as pd\n",
    "from concurrent.futures import ThreadPoolExecutor, as_completed\n",
    "from time import sleep\n",
    "import json\n",
    "import re\n",
    "from datasets import load_dataset, Dataset"
   ]
  },
  {
   "cell_type": "code",
   "execution_count": 29,
   "id": "97574e39-e45c-4158-b524-59deb8115720",
   "metadata": {
    "scrolled": true
   },
   "outputs": [
    {
     "name": "stdout",
     "output_type": "stream",
     "text": [
      "--2023-09-10 05:55:59--  https://docs.google.com/spreadsheet/ccc?key=1pXY3z48RnjoFnfBYj7Fg2oBcmzJnDwZ29GPuRg-ccWc&output=csv\n",
      "Resolving docs.google.com (docs.google.com)... 142.250.125.100, 142.250.125.101, 142.250.125.102, ...\n",
      "Connecting to docs.google.com (docs.google.com)|142.250.125.100|:443... connected.\n",
      "HTTP request sent, awaiting response... 301 Moved Permanently\n",
      "Location: https://docs.google.com/spreadsheets/d/1pXY3z48RnjoFnfBYj7Fg2oBcmzJnDwZ29GPuRg-ccWc/export?format=csv [following]\n",
      "--2023-09-10 05:55:59--  https://docs.google.com/spreadsheets/d/1pXY3z48RnjoFnfBYj7Fg2oBcmzJnDwZ29GPuRg-ccWc/export?format=csv\n",
      "Reusing existing connection to docs.google.com:443.\n",
      "HTTP request sent, awaiting response... 307 Temporary Redirect\n",
      "Location: https://doc-14-bs-sheets.googleusercontent.com/export/54bogvaave6cua4cdnls17ksc4/d00rr4d3m7e5icp2h0t9kf146s/1694325360000/112922963459535230484/*/1pXY3z48RnjoFnfBYj7Fg2oBcmzJnDwZ29GPuRg-ccWc?format=csv [following]\n",
      "Warning: wildcards not supported in HTTP.\n",
      "--2023-09-10 05:56:00--  https://doc-14-bs-sheets.googleusercontent.com/export/54bogvaave6cua4cdnls17ksc4/d00rr4d3m7e5icp2h0t9kf146s/1694325360000/112922963459535230484/*/1pXY3z48RnjoFnfBYj7Fg2oBcmzJnDwZ29GPuRg-ccWc?format=csv\n",
      "Resolving doc-14-bs-sheets.googleusercontent.com (doc-14-bs-sheets.googleusercontent.com)... 142.250.1.132, 2607:f8b0:4001:c24::84\n",
      "Connecting to doc-14-bs-sheets.googleusercontent.com (doc-14-bs-sheets.googleusercontent.com)|142.250.1.132|:443... connected.\n",
      "HTTP request sent, awaiting response... 200 OK\n",
      "Length: unspecified [text/csv]\n",
      "Saving to: ‘web_content.csv’\n",
      "\n",
      "web_content.csv         [       <=>          ]   8.30M  6.50MB/s    in 1.3s    \n",
      "\n",
      "2023-09-10 05:56:02 (6.50 MB/s) - ‘web_content.csv’ saved [8707431]\n",
      "\n",
      "--2023-09-10 05:56:02--  https://docs.google.com/spreadsheet/ccc?key=1N7JDn1Ez1BpGejur5HSFqrjOzT8z_3Opo84BEed55PY&output=csv\n",
      "Resolving docs.google.com (docs.google.com)... 142.250.125.139, 142.250.125.113, 142.250.125.138, ...\n",
      "Connecting to docs.google.com (docs.google.com)|142.250.125.139|:443... connected.\n",
      "HTTP request sent, awaiting response... 301 Moved Permanently\n",
      "Location: https://docs.google.com/spreadsheets/d/1N7JDn1Ez1BpGejur5HSFqrjOzT8z_3Opo84BEed55PY/export?format=csv [following]\n",
      "--2023-09-10 05:56:02--  https://docs.google.com/spreadsheets/d/1N7JDn1Ez1BpGejur5HSFqrjOzT8z_3Opo84BEed55PY/export?format=csv\n",
      "Reusing existing connection to docs.google.com:443.\n",
      "HTTP request sent, awaiting response... 307 Temporary Redirect\n",
      "Location: https://doc-0g-bs-sheets.googleusercontent.com/export/54bogvaave6cua4cdnls17ksc4/u77fhnp5salhfmsrds86hqnjl8/1694325360000/112922963459535230484/*/1N7JDn1Ez1BpGejur5HSFqrjOzT8z_3Opo84BEed55PY?format=csv [following]\n",
      "Warning: wildcards not supported in HTTP.\n",
      "--2023-09-10 05:56:02--  https://doc-0g-bs-sheets.googleusercontent.com/export/54bogvaave6cua4cdnls17ksc4/u77fhnp5salhfmsrds86hqnjl8/1694325360000/112922963459535230484/*/1N7JDn1Ez1BpGejur5HSFqrjOzT8z_3Opo84BEed55PY?format=csv\n",
      "Resolving doc-0g-bs-sheets.googleusercontent.com (doc-0g-bs-sheets.googleusercontent.com)... 142.250.1.132, 2607:f8b0:4001:c24::84\n",
      "Connecting to doc-0g-bs-sheets.googleusercontent.com (doc-0g-bs-sheets.googleusercontent.com)|142.250.1.132|:443... connected.\n",
      "HTTP request sent, awaiting response... 200 OK\n",
      "Length: unspecified [text/csv]\n",
      "Saving to: ‘video_transcripts.csv’\n",
      "\n",
      "video_transcripts.c     [ <=>                ] 596.53K  --.-KB/s    in 0.08s   \n",
      "\n",
      "2023-09-10 05:56:03 (7.54 MB/s) - ‘video_transcripts.csv’ saved [610848]\n",
      "\n",
      "--2023-09-10 05:56:03--  https://docs.google.com/spreadsheet/ccc?key=1h_H7UREvflYVcsePznZlUtF7NyttuW-7y9g66HRkMVA&output=csv\n",
      "Resolving docs.google.com (docs.google.com)... 142.250.125.139, 142.250.125.113, 142.250.125.138, ...\n",
      "Connecting to docs.google.com (docs.google.com)|142.250.125.139|:443... connected.\n",
      "HTTP request sent, awaiting response... 301 Moved Permanently\n",
      "Location: https://docs.google.com/spreadsheets/d/1h_H7UREvflYVcsePznZlUtF7NyttuW-7y9g66HRkMVA/export?format=csv [following]\n",
      "--2023-09-10 05:56:03--  https://docs.google.com/spreadsheets/d/1h_H7UREvflYVcsePznZlUtF7NyttuW-7y9g66HRkMVA/export?format=csv\n",
      "Reusing existing connection to docs.google.com:443.\n",
      "HTTP request sent, awaiting response... 307 Temporary Redirect\n",
      "Location: https://doc-04-bs-sheets.googleusercontent.com/export/54bogvaave6cua4cdnls17ksc4/dp1ua5l98ksgtoe1vf4k559p24/1694325360000/112922963459535230484/*/1h_H7UREvflYVcsePznZlUtF7NyttuW-7y9g66HRkMVA?format=csv [following]\n",
      "Warning: wildcards not supported in HTTP.\n",
      "--2023-09-10 05:56:03--  https://doc-04-bs-sheets.googleusercontent.com/export/54bogvaave6cua4cdnls17ksc4/dp1ua5l98ksgtoe1vf4k559p24/1694325360000/112922963459535230484/*/1h_H7UREvflYVcsePznZlUtF7NyttuW-7y9g66HRkMVA?format=csv\n",
      "Resolving doc-04-bs-sheets.googleusercontent.com (doc-04-bs-sheets.googleusercontent.com)... 142.250.1.132, 2607:f8b0:4001:c24::84\n",
      "Connecting to doc-04-bs-sheets.googleusercontent.com (doc-04-bs-sheets.googleusercontent.com)|142.250.1.132|:443... connected.\n",
      "HTTP request sent, awaiting response... 200 OK\n",
      "Length: unspecified [text/csv]\n",
      "Saving to: ‘reddit.csv’\n",
      "\n",
      "reddit.csv              [ <=>                ] 980.41K  --.-KB/s    in 0.07s   \n",
      "\n",
      "2023-09-10 05:56:04 (13.2 MB/s) - ‘reddit.csv’ saved [1003938]\n",
      "\n"
     ]
    }
   ],
   "source": [
    "!wget -O web_content.csv 'https://docs.google.com/spreadsheet/ccc?key=1pXY3z48RnjoFnfBYj7Fg2oBcmzJnDwZ29GPuRg-ccWc&output=csv'\n",
    "!wget -O video_transcripts.csv 'https://docs.google.com/spreadsheet/ccc?key=1N7JDn1Ez1BpGejur5HSFqrjOzT8z_3Opo84BEed55PY&output=csv'\n",
    "!wget -O reddit.csv 'https://docs.google.com/spreadsheet/ccc?key=1h_H7UREvflYVcsePznZlUtF7NyttuW-7y9g66HRkMVA&output=csv'"
   ]
  },
  {
   "cell_type": "markdown",
   "id": "8d7394aa-8d4d-4a32-a4cf-d256ec83a15b",
   "metadata": {},
   "source": [
    "# Uncomment the dataset you want to preprocess"
   ]
  },
  {
   "cell_type": "code",
   "execution_count": 2,
   "id": "d6ce0d0b-5ecc-42da-b24a-ab1c52f7ab8a",
   "metadata": {},
   "outputs": [],
   "source": [
    "# infile = \"web_content.csv\"\n",
    "# outfile = \"web_content.jsonl\"\n",
    "\n",
    "# df = pd.read_csv(infile)\n",
    "# df = df.dropna()"
   ]
  },
  {
   "cell_type": "code",
   "execution_count": 62,
   "id": "c00fde44-ce50-4f7f-a4fa-8095f5a69952",
   "metadata": {},
   "outputs": [],
   "source": [
    "infile = \"video_transcripts.csv\"\n",
    "outfile = \"video_transcripts.jsonl\"\n",
    "\n",
    "df = pd.read_csv(infile)\n",
    "df = df.dropna()\n",
    "df[\"identifiers\"] = None\n",
    "df[\"title\"] = df[\"title\"] + \"\\n\" + df[\"description\"]\n",
    "_ = df.pop(\"description\")"
   ]
  },
  {
   "cell_type": "code",
   "execution_count": 88,
   "id": "453593f4-da42-4991-9c86-bd84e3ad1216",
   "metadata": {},
   "outputs": [],
   "source": [
    "infile = \"reddit.csv\"\n",
    "outfile = \"reddit.jsonl\"\n",
    "\n",
    "df = pd.read_csv(infile)\n",
    "df = df.dropna()\n",
    "\n",
    "# df\n",
    "\n",
    "with open(outfile, \"w\") as f:\n",
    "    for row in df.itertuples():\n",
    "        data = {\"conversations\": [\n",
    "            {\"from\": \"human\", \"value\": row.prompt},\n",
    "            {\"from\": \"gpt\", \"value\": row.resposne},\n",
    "        ]}\n",
    "        f.write(json.dumps(data) + \"\\n\")"
   ]
  },
  {
   "cell_type": "code",
   "execution_count": 63,
   "id": "90b4c05c-6b36-478e-9144-037f22b73d7a",
   "metadata": {},
   "outputs": [
    {
     "data": {
      "text/html": [
       "<div>\n",
       "<style scoped>\n",
       "    .dataframe tbody tr th:only-of-type {\n",
       "        vertical-align: middle;\n",
       "    }\n",
       "\n",
       "    .dataframe tbody tr th {\n",
       "        vertical-align: top;\n",
       "    }\n",
       "\n",
       "    .dataframe thead th {\n",
       "        text-align: right;\n",
       "    }\n",
       "</style>\n",
       "<table border=\"1\" class=\"dataframe\">\n",
       "  <thead>\n",
       "    <tr style=\"text-align: right;\">\n",
       "      <th></th>\n",
       "      <th>source</th>\n",
       "      <th>title</th>\n",
       "      <th>Unnamed: 3</th>\n",
       "      <th>transcript</th>\n",
       "      <th>identifiers</th>\n",
       "    </tr>\n",
       "  </thead>\n",
       "  <tbody>\n",
       "    <tr>\n",
       "      <th>0</th>\n",
       "      <td>https://www.youtube.com/watch?v=0IqkVLEsC3E</td>\n",
       "      <td>Therapy Recordings - \"Anna\", session 3, part 1...</td>\n",
       "      <td>https://storage.googleapis.com/dara-c1b52.apps...</td>\n",
       "      <td>Speaker 0: welcome to the curious mind podcast...</td>\n",
       "      <td>None</td>\n",
       "    </tr>\n",
       "    <tr>\n",
       "      <th>1</th>\n",
       "      <td>https://www.youtube.com/watch?v=uTj33gQ4G38</td>\n",
       "      <td>Therapy Recordings - \"Anna\", session 1, part 2...</td>\n",
       "      <td>https://storage.googleapis.com/dara-c1b52.apps...</td>\n",
       "      <td>Speaker 0: welcome back to the curious mind po...</td>\n",
       "      <td>None</td>\n",
       "    </tr>\n",
       "    <tr>\n",
       "      <th>2</th>\n",
       "      <td>https://www.youtube.com/watch?v=zyc4on_c-58</td>\n",
       "      <td>Therapy Recordings - \"Anna\", session 3, part 2...</td>\n",
       "      <td>https://storage.googleapis.com/dara-c1b52.apps...</td>\n",
       "      <td>Speaker 0: this is the curious mind podcast my...</td>\n",
       "      <td>None</td>\n",
       "    </tr>\n",
       "    <tr>\n",
       "      <th>3</th>\n",
       "      <td>https://www.youtube.com/watch?v=GpwgwK5GCEA</td>\n",
       "      <td>Therapy Recordings - \"Anna\", session 2, part 1...</td>\n",
       "      <td>https://storage.googleapis.com/dara-c1b52.apps...</td>\n",
       "      <td>Speaker 0: welcome to the curious mind podcast...</td>\n",
       "      <td>None</td>\n",
       "    </tr>\n",
       "    <tr>\n",
       "      <th>4</th>\n",
       "      <td>https://www.youtube.com/watch?v=6bryrnVWGx8</td>\n",
       "      <td>Therapy Recordings - \"Hanni\", session 1\\nThis ...</td>\n",
       "      <td>https://storage.googleapis.com/dara-c1b52.apps...</td>\n",
       "      <td>Speaker 0: everyone my name is gabriel ellis i...</td>\n",
       "      <td>None</td>\n",
       "    </tr>\n",
       "    <tr>\n",
       "      <th>6</th>\n",
       "      <td>https://www.youtube.com/watch?v=7LD8iC4NqXM</td>\n",
       "      <td>Case study clinical example CBT: First session...</td>\n",
       "      <td>https://storage.googleapis.com/dara-c1b52.apps...</td>\n",
       "      <td>Speaker 0: hi lucy nice to meet you hi so i un...</td>\n",
       "      <td>None</td>\n",
       "    </tr>\n",
       "    <tr>\n",
       "      <th>7</th>\n",
       "      <td>https://www.youtube.com/watch?v=W3FqtEVcFFM</td>\n",
       "      <td>Therapy Recordings - \"Anna\", session 2, part 2...</td>\n",
       "      <td>https://storage.googleapis.com/dara-c1b52.apps...</td>\n",
       "      <td>Speaker 0: welcome to the curus mind podcast a...</td>\n",
       "      <td>None</td>\n",
       "    </tr>\n",
       "    <tr>\n",
       "      <th>8</th>\n",
       "      <td>https://www.youtube.com/watch?v=My9Lmsh1Sv0</td>\n",
       "      <td>Therapy Recordings - \"Hanni\", session 2\\nHanni...</td>\n",
       "      <td>https://storage.googleapis.com/dara-c1b52.apps...</td>\n",
       "      <td>Speaker 0: so welcome to our second session wi...</td>\n",
       "      <td>None</td>\n",
       "    </tr>\n",
       "    <tr>\n",
       "      <th>9</th>\n",
       "      <td>https://www.youtube.com/watch?v=pQx4f2u9R6E</td>\n",
       "      <td>Therapy Recordings - \"Hanni\", session 3\\nIn th...</td>\n",
       "      <td>https://storage.googleapis.com/dara-c1b52.apps...</td>\n",
       "      <td>Speaker 0: so welcome to our third session wit...</td>\n",
       "      <td>None</td>\n",
       "    </tr>\n",
       "    <tr>\n",
       "      <th>10</th>\n",
       "      <td>https://www.youtube.com/watch?v=X47ODjcasUI</td>\n",
       "      <td>Therapy Recordings - \"Anna\", Session 1, Part 1...</td>\n",
       "      <td>https://storage.googleapis.com/dara-c1b52.apps...</td>\n",
       "      <td>Speaker 0: today i start a series of three rec...</td>\n",
       "      <td>None</td>\n",
       "    </tr>\n",
       "  </tbody>\n",
       "</table>\n",
       "</div>"
      ],
      "text/plain": [
       "                                         source  \\\n",
       "0   https://www.youtube.com/watch?v=0IqkVLEsC3E   \n",
       "1   https://www.youtube.com/watch?v=uTj33gQ4G38   \n",
       "2   https://www.youtube.com/watch?v=zyc4on_c-58   \n",
       "3   https://www.youtube.com/watch?v=GpwgwK5GCEA   \n",
       "4   https://www.youtube.com/watch?v=6bryrnVWGx8   \n",
       "6   https://www.youtube.com/watch?v=7LD8iC4NqXM   \n",
       "7   https://www.youtube.com/watch?v=W3FqtEVcFFM   \n",
       "8   https://www.youtube.com/watch?v=My9Lmsh1Sv0   \n",
       "9   https://www.youtube.com/watch?v=pQx4f2u9R6E   \n",
       "10  https://www.youtube.com/watch?v=X47ODjcasUI   \n",
       "\n",
       "                                                title  \\\n",
       "0   Therapy Recordings - \"Anna\", session 3, part 1...   \n",
       "1   Therapy Recordings - \"Anna\", session 1, part 2...   \n",
       "2   Therapy Recordings - \"Anna\", session 3, part 2...   \n",
       "3   Therapy Recordings - \"Anna\", session 2, part 1...   \n",
       "4   Therapy Recordings - \"Hanni\", session 1\\nThis ...   \n",
       "6   Case study clinical example CBT: First session...   \n",
       "7   Therapy Recordings - \"Anna\", session 2, part 2...   \n",
       "8   Therapy Recordings - \"Hanni\", session 2\\nHanni...   \n",
       "9   Therapy Recordings - \"Hanni\", session 3\\nIn th...   \n",
       "10  Therapy Recordings - \"Anna\", Session 1, Part 1...   \n",
       "\n",
       "                                           Unnamed: 3  \\\n",
       "0   https://storage.googleapis.com/dara-c1b52.apps...   \n",
       "1   https://storage.googleapis.com/dara-c1b52.apps...   \n",
       "2   https://storage.googleapis.com/dara-c1b52.apps...   \n",
       "3   https://storage.googleapis.com/dara-c1b52.apps...   \n",
       "4   https://storage.googleapis.com/dara-c1b52.apps...   \n",
       "6   https://storage.googleapis.com/dara-c1b52.apps...   \n",
       "7   https://storage.googleapis.com/dara-c1b52.apps...   \n",
       "8   https://storage.googleapis.com/dara-c1b52.apps...   \n",
       "9   https://storage.googleapis.com/dara-c1b52.apps...   \n",
       "10  https://storage.googleapis.com/dara-c1b52.apps...   \n",
       "\n",
       "                                           transcript identifiers  \n",
       "0   Speaker 0: welcome to the curious mind podcast...        None  \n",
       "1   Speaker 0: welcome back to the curious mind po...        None  \n",
       "2   Speaker 0: this is the curious mind podcast my...        None  \n",
       "3   Speaker 0: welcome to the curious mind podcast...        None  \n",
       "4   Speaker 0: everyone my name is gabriel ellis i...        None  \n",
       "6   Speaker 0: hi lucy nice to meet you hi so i un...        None  \n",
       "7   Speaker 0: welcome to the curus mind podcast a...        None  \n",
       "8   Speaker 0: so welcome to our second session wi...        None  \n",
       "9   Speaker 0: so welcome to our third session wit...        None  \n",
       "10  Speaker 0: today i start a series of three rec...        None  "
      ]
     },
     "execution_count": 63,
     "metadata": {},
     "output_type": "execute_result"
    }
   ],
   "source": [
    "df[\"identifiers\"] = None\n",
    "df"
   ]
  },
  {
   "cell_type": "markdown",
   "id": "0d044f38-5c7b-438d-aa34-7589a1b428c5",
   "metadata": {},
   "source": [
    "# A bunch of prompts to identify speakers and export conversations to a sharegpt format"
   ]
  },
  {
   "cell_type": "code",
   "execution_count": 64,
   "id": "1b5b37cd-eca3-4811-99f0-71df4ac39948",
   "metadata": {},
   "outputs": [],
   "source": [
    "def run_identifier(idx, transcript):\n",
    "    messages = [\n",
    "        {\n",
    "            \"role\": \"system\",\n",
    "            \"content\": \"\"\"\n",
    "You are an AI analysing transcripts. \n",
    "Extract only the relevant part of the conversation to contain a dialogue between 2 individuals: a counsellor and their counselee.\n",
    "You must only use the following JSON format: \n",
    "{\n",
    "    \"introducer\": <The identifier of the speaker who gave the introduction to the conversation, or null>,\n",
    "    \"counsellor\": <The identifier of the speaker that you extracted to be the counsellor>,\n",
    "    \"counselee\": <The identifier of the speaker that you extracted to be the person receiving advice from the counsellor>\n",
    "}\n",
    "\"\"\".strip()\n",
    "        },\n",
    "        {\n",
    "            \"role\": \"user\",\n",
    "             \"content\": \"\"\"\n",
    "ADAM: (calling out) Hello?\n",
    "ADAM: (calling out) The progeny returns!\n",
    "ADAM: Hellooooo...\n",
    "REBECCA HAYES: (from the kitchen) In the kitchen!\n",
    "REBECCA HAYES: Adam, sweetie, what are you doing here!\n",
    "ADAM: (into the hug) Yeah, good to see you too, Mom. Where's Dad?\n",
    "REBECCA HAYES: Grocery shopping.\n",
    "REBECCA HAYES: Did we know you were coming this weekend?\n",
    "ADAM: Nope, it was sort of a last minute thing...(seeing the kitchen) Are you...baking?\n",
    "REBECCA HAYES: Um...yes. Is there a chance you can talk to Dr. Bright and leave it at that? Let her and The AM take it from here?\n",
    "ADAM: Sure, Mom. We can try that.\n",
    "REBECCA HAYES: Mmhm. Sure.\n",
    "REBECCA HAYES: You should get going.\n",
    "ADAM: Yeah.(then, playfully conspiratorial) But first, tell me everything you know about alchemy.\n",
    "FADE TO:\n",
    "DR. BRIGHT: Hmm, the staff of Caduceus...and she said it was the symbol for salt?\n",
    "ADAM: Yeah. But it can also mean base? Or body? And this little curved bit might have to do with mercury, or the mind.\n",
    "CALEB: Did she recognize the arrow type bits?\n",
    "ADAM: No. She said it doesn't match the other symbols, like it was from a different discipline entirely.\n",
    "DR. BRIGHT: (peering closer) Hm, I think she might be right. It's not an alchemical or medical symbol, but it does look familiar.\n",
    "CALEB: Since when does everyone know what alchemical symbols look like?\n",
    "ADAM: (to Dr. Bright) Do you know where it's from?\n",
    "DR. BRIGHT: (to Adam) Not off the top of my head. (to Caleb) Alchemy and Atypical science have gone hand in hand for centuries. A lot of the older documents we have about Atypicals use alchemical symbols. I may not be a medical doctor, but most people who work with Atypicals read all the scholarship there is, given that there isn't much. I imagine Rebecca is familiar for the same reason.\n",
    "ADAM: (muttering) Something like that...\n",
    "CALEB: Older documents? Like, ancient texts about Atypicals?\n",
    "DR. BRIGHT: Nothing quite so exciting as \"ancient texts\". It's the same as any other scientific discipline - there's years and years of research and discoveries. Given Oliver Ritz's ability, he was quite interested in the study and lent me some of his books after he was released.\n",
    "CALEB: Oliver Ritz- that's the transmutation guy right? Mark's mentioned him a few times.\n",
    "DR. BRIGHT: That's the one. He often calls himself an alchemist actually- he's always turning something into something else. It was...it was quite helpful a few years ago.\n",
    "CALEB: Right.\n",
    "ADAM: He's an alchemist? So he might know something.\n",
    "DR. BRIGHT: He could. But he's away in Europe at the moment - Mark has been trying to reach him, but Oliver has been...\"ghosting\" him. Is that the right word?\n",
    "ADAM: Yeah, Dr. Bright.\n",
    "CALEB: (grumbling) A bit rich coming from Mark- he's been ghosting me the past week.\n",
    "ADAM: Really? Is he okay?\n",
    "DR. BRIGHT: He's fine - I saw him yesterday. He's just been caught up with something - he won't tell me what though, so he's either been fired and is trying to find a new job before I find out or he's seeing someone new.\n",
    "CALEB: Well, can you tell him to text me back?\n",
    "ADAM: (mumbling) Doesn't feel good, does it...\n",
    "DR. BRIGHT: I'll do my best. (then) You know, I'm happy to pass along the material that Oliver gave me.\n",
    "ADAM: Really?\n",
    "CALEB: That'd be great, Dr. Bright.\n",
    "DR. BRIGHT: I don't know how helpful it will be. But Oliver was into some...fringe stuff before he was brought to The AM, so there might be something in there that I missed.\n",
    "CALEB: Thank you.\n",
    "DR. BRIGHT: So. Adam-\n",
    "ADAM: (jumping in) Thank you. For letting us borrow Agent Green's files. I promise we'll get them back to you.\n",
    "DR. BRIGHT:  It's no problem, Adam. I'm just glad that someone will get some use out of them. They've just been gathering dust in my office.\n",
    "ADAM: How have you...I mean. How are you? I know it's been a few years but...\n",
    "DR. BRIGHT: It's funny. Sometimes I feel each and every one of the one thousand one hundred and one days since Owen died. Like they're each a lifetime I've lived without hearing his voice. And other days it feels like yesterday. And I can still hear him. Telling me to be happy. (beat) I'm sorry, I shouldn't have- it's just that sometimes, standing in this lobby, so close to where he- (beat) It never leaves you. Grief isn't linear and it has no end point. (then) I want you both to be careful, Adam. I know that you're capable young men - adults - but if Caleb's friend has really been kidnapped...you need to protect each other. (pointed) Nothing is worth losing someone you love.\n",
    "MAGS: (distant) What!? That's nuts!\n",
    "CALEB: (distant) I know!\n",
    "ADAM: I know. We'll be careful. I promise.\n",
    "DR. BRIGHT: Okay. (beat) Okay. (beat) We should probably go collect Caleb and get those files - he'll talk to Mags all day if we let him.\n",
    "ADAM: I...I think I might just hang here, if that's okay? I...I don't know that I'm ready to go deeper into The AM.\n",
    "DR. BRIGHT: You know, Adam, Ellie- (beat) Your aunt, she...she's been doing better. Since Helen. I won't say she's totally changed her ways, but-\n",
    "ADAM: You're right, we should get those files and get out of your hair.\n",
    "DR. BRIGHT: Right. (then) I'll be back.\n",
    "MAGS: Hey, Adam, long time!\n",
    "ADAM: Hey, Mags. How are you?\n",
    "MAGS: I'm doing good- nice to see you both. It's a been a while!\n",
    "ADAM: Yeah. Yeah, I  guess it has.\n",
    "MAGS: I thought you two...\n",
    "ADAM: We did. We just- there's weird stuff going on...we're just helping  each other out.\n",
    "MAGS: Yeah, Caleb said. Sounds pretty gnarly. You're borrowing some of Owen's old files?\n",
    "ADAM: Yeah. Did he ever mention anything  to you about any secret Atypical societies or-\n",
    "ALICE: MagsyMagsyMags!\n",
    "MAGS: (overlapping) Alice!\n",
    "ALICE: Adam?\n",
    "ADAM: Alice.\n",
    "ALICE: Um, hi.\n",
    "ADAM: Hi.\n",
    "ALICE: ...what are you doing here?\n",
    "ADAM: What are you doing here?\n",
    "ALICE: Weekly group therapy.\n",
    "MAGS: Right, speaking of, I should probably go grab the new members-\n",
    "ALICE: (to Mags) Anyone cool this week?\n",
    "MAGS: You'll just have to wait and see.\n",
    "ALICE: Ugh, fine. I'll be in in a sec.\n",
    "MAGS: Sure. (then, to Adam) Nice to see you, Adam.\n",
    "ADAM: Yeah, you too, Mags.\n",
    "ALICE: (refocusing on Adam) So what are you doing here?\n",
    "ADAM: (faltering) Oh, um, Caleb and I are- we were talking to Dr. Bright about- we need these files-\n",
    "ALICE: Oh right, the weird Yale thing. You guys are still looking into that?\n",
    "ADAM: I mean, yeah.  It's still happening. Especially now with Caleb's friend missing-\n",
    "ALICE: Whoa, what? Someone is missing? Like, legit missing?\n",
    "ADAM: ...Caleb didn't tell you that?\n",
    "ALICE: No. No, he didn't. (beat) I'm gonna kill him.\n",
    "ADAM: Alice-\n",
    "ALICE: No, if you guys are involved in something, like, actually dangerous, and Caleb didn't tell me-\n",
    "ADAM: I'm sure he just didn't want to worry you-\n",
    "ALICE: Screw that, I'm worried.\n",
    "ADAM: Please don't tell him I told you.\n",
    "ALICE: Fine. (beat) I'm sure I can get it out of him anyway.\n",
    "ADAM: I'm kind of surprised he hasn't caught you up. I thought you guys told each other everything.\n",
    "ALICE: We do, but...I don't know, he's  been weirdly cagey recently. And, anyway, you're probably right, he probably didn't want to worry me. He's always trying to protect me.\n",
    "ADAM: (dry) What a terrible older brother he is.\n",
    "\"\"\".strip()\n",
    "         },\n",
    "        {\n",
    "            \"role\": \"assistant\",\n",
    "             \"content\": \"\"\"\n",
    "{\n",
    "    \"introducer\": \"ADAM\",\n",
    "    \"counsellor\": \"ADAM\",\n",
    "    \"counselee\": \"DR. BRIGHT\"\n",
    "}\n",
    "\"\"\".strip()\n",
    "         },\n",
    "        {\n",
    "            \"role\": \"user\", \n",
    "            \"content\": transcript.strip()\n",
    "        },\n",
    "    ]\n",
    "\n",
    "    sleep(10)\n",
    "    \n",
    "    r = openai.ChatCompletion.create(\n",
    "        model=\"gpt-3.5-turbo-16k\",\n",
    "        messages=messages,\n",
    "        max_tokens=1024,\n",
    "        temperature=0.1,\n",
    "    )\n",
    "    \n",
    "    output = json.loads(r[\"choices\"][0][\"message\"][\"content\"])\n",
    "    \n",
    "    return idx, output"
   ]
  },
  {
   "cell_type": "code",
   "execution_count": null,
   "id": "552f9507-1f53-4643-a62c-15eca5de194b",
   "metadata": {},
   "outputs": [],
   "source": []
  },
  {
   "cell_type": "code",
   "execution_count": 65,
   "id": "37426bea-a573-40a7-8d6a-4adfecec20d1",
   "metadata": {},
   "outputs": [],
   "source": [
    "pool =  ThreadPoolExecutor(max_workers=5)\n",
    "fs = [\n",
    "    pool.submit(run_identifier, row.Index, row.transcript) \n",
    "    for row in df.itertuples()\n",
    "    if not row.identifiers\n",
    "]"
   ]
  },
  {
   "cell_type": "code",
   "execution_count": 66,
   "id": "7b8a3956-d0ee-448c-a3f8-19763ad0fe8e",
   "metadata": {},
   "outputs": [
    {
     "data": {
      "text/plain": [
       "10"
      ]
     },
     "execution_count": 66,
     "metadata": {},
     "output_type": "execute_result"
    }
   ],
   "source": [
    "len(fs)"
   ]
  },
  {
   "cell_type": "code",
   "execution_count": 67,
   "id": "197c8f1f-bfe6-4e24-86a2-51aeecf29eb3",
   "metadata": {},
   "outputs": [
    {
     "name": "stdout",
     "output_type": "stream",
     "text": [
      "0 {'introducer': None, 'counsellor': 'Speaker 0', 'counselee': 'Speaker 1'}\n",
      "2 {'introducer': None, 'counsellor': 'Speaker 0', 'counselee': 'Speaker 1'}\n",
      "3 {'introducer': None, 'counsellor': 'Speaker 0', 'counselee': 'Speaker 1'}\n",
      "4 {'introducer': None, 'counsellor': 'Speaker 0', 'counselee': 'Speaker 1'}\n",
      "1 {'introducer': 'Speaker 0', 'counsellor': 'Speaker 0', 'counselee': 'Speaker 1'}\n",
      "7 {'introducer': None, 'counsellor': 'Speaker 0', 'counselee': 'Speaker 1'}\n",
      "6 {'introducer': 'Speaker 0', 'counsellor': 'Speaker 0', 'counselee': 'Speaker 1'}\n",
      "9 {'introducer': None, 'counsellor': 'Speaker 0', 'counselee': 'Speaker 1'}\n",
      "8 {'introducer': None, 'counsellor': 'Speaker 0', 'counselee': 'Speaker 1'}\n",
      "10 {'introducer': None, 'counsellor': 'Speaker 1', 'counselee': 'Speaker 2'}\n"
     ]
    }
   ],
   "source": [
    "it = as_completed(fs)\n",
    "for _ in range(len(fs)):\n",
    "    try:\n",
    "        idx, result = next(it).result()\n",
    "    except Exception as e:\n",
    "        print(idx, repr(e))\n",
    "        continue\n",
    "    df['identifiers'].loc[idx] = json.dumps(result)    \n",
    "    print(idx, result)   "
   ]
  },
  {
   "cell_type": "code",
   "execution_count": 69,
   "id": "d11971d6-6944-4960-9c4a-9777f6aaf298",
   "metadata": {},
   "outputs": [],
   "source": [
    "# print(df.loc[1].transcript)"
   ]
  },
  {
   "cell_type": "code",
   "execution_count": 70,
   "id": "240335f8-c822-42ec-825c-e8e1ebf13dd2",
   "metadata": {},
   "outputs": [],
   "source": [
    "def as_sharegpt(row):\n",
    "    try:\n",
    "        ids = json.loads(row.identifiers)\n",
    "        doctor = ids['counsellor']\n",
    "        patient = ids['counselee']\n",
    "        introducer = ids['introducer']\n",
    "        others = ids.get('others', [])\n",
    "        assert patient and doctor\n",
    "    except Exception as e:\n",
    "        # df.identifiers.loc[row.Index] = None\n",
    "        print(row.Index, repr(e))\n",
    "        return None\n",
    "\n",
    "    pat = r\"^\\s*(\" + re.escape(doctor) + r'|' + re.escape(patient) + r\"|.*)\\:\\s*\"\n",
    "    splits = re.split( pat, row.transcript, flags=re.M, )\n",
    "\n",
    "    convo = [{\"from\": \"system\", \"value\": row.title}]\n",
    "\n",
    "    last_role = None\n",
    "    \n",
    "    for name, content in zip(splits[1::2], splits[2::2]):\n",
    "        # print([name, content])\n",
    "        if name == introducer and len(convo) <= 1:\n",
    "            convo[0][\"value\"] = (convo[0][\"value\"] + \"\\n\" + content.strip()).strip()\n",
    "            continue\n",
    "        \n",
    "        if name == patient:\n",
    "            role = \"human\"\n",
    "        elif name == doctor:\n",
    "            role = \"gpt\"\n",
    "        else:\n",
    "            continue\n",
    "        \n",
    "        if role == last_role:\n",
    "            convo[-1][\"value\"] = (convo[-1][\"value\"] + \"\\n\" + content.strip()).strip()\n",
    "        else:            \n",
    "            convo.append({\"from\": role, \"value\": content.strip()})\n",
    "        last_role = role        \n",
    "\n",
    "    if len(convo) < 3:\n",
    "        # df.identifiers.loc[row.Index] = None\n",
    "        print(row.Index, convo)\n",
    "        return None\n",
    "    \n",
    "    # if convo[1][\"from\"] == \"gpt\":\n",
    "    #     convo.pop(1)\n",
    "    \n",
    "    return {\"conversations\": convo}"
   ]
  },
  {
   "cell_type": "code",
   "execution_count": 71,
   "id": "37c57049-f7f6-4681-aa5f-1bc46ceaf204",
   "metadata": {
    "scrolled": true
   },
   "outputs": [],
   "source": [
    "with open(outfile, \"w\") as f:\n",
    "    for row in df.itertuples():\n",
    "        data = as_sharegpt(row)\n",
    "        if not data:\n",
    "            continue\n",
    "        f.write(json.dumps(data) + \"\\n\")"
   ]
  },
  {
   "cell_type": "code",
   "execution_count": 95,
   "id": "392aae10-5388-4c61-b13e-e3bd6ca180d4",
   "metadata": {},
   "outputs": [
    {
     "name": "stdout",
     "output_type": "stream",
     "text": [
      "{\"conversations\": [{\"from\": \"human\", \"value\": \"This sub is depressing as fuck. I get it's a mental health sub but every post that pops up in my feed is \\\"I'm going to kill mysef\\\" \\nIs this a sub for people to post that they're going to kill themselves and this is their last place to go to? It's crazy the amount of posts I see like this and I get it, the world is in a very dark time right now but god damn I thought this was a place had more variety to it....\"}, {\"from\": \"gpt\", \"value\": \"Seconded I'm a very sensitive person and reading a couple of posts titles similar to this in one setting is just not for me..\\nI might just leave this community as well lol\"}]}\n",
      "{\"conversations\": [{\"from\": \"human\", \"value\": \"This sub is depressing as fuck. I get it's a mental health sub but every post that pops up in my feed is \\\"I'm going to kill mysef\\\" \\nIs this a sub for people to post that they're going to kill themselves and this is their last place to go to? It's crazy the amount of posts I see like this and I get it, the world is in a very dark time right now but god damn I thought this was a place had more variety to it....\"}, {\"from\": \"gpt\", \"value\": \"I swear every time I scroll my feed I see a \\\"I'm gonna kill myself\\\" post at least once from this sub. I don't think the mods are very active, and while I enjoy the more free speech we get from that, I feel like they would've done something about it by now.\"}]}\n",
      "{\"conversations\": [{\"from\": \"human\", \"value\": \"This sub is depressing as fuck. I get it's a mental health sub but every post that pops up in my feed is \\\"I'm going to kill mysef\\\" \\nIs this a sub for people to post that they're going to kill themselves and this is their last place to go to? It's crazy the amount of posts I see like this and I get it, the world is in a very dark time right now but god damn I thought this was a place had more variety to it....\"}, {\"from\": \"gpt\", \"value\": \"I know what you mean, there are quite a few suicidal posts (especially recently).\\nThere's also /r/SuicideWatch which seems pretty active, but I guess some prefer to post to this sub.\"}]}\n",
      "{\"conversations\": [{\"from\": \"human\", \"value\": \"This sub is depressing as fuck. I get it's a mental health sub but every post that pops up in my feed is \\\"I'm going to kill mysef\\\" \\nIs this a sub for people to post that they're going to kill themselves and this is their last place to go to? It's crazy the amount of posts I see like this and I get it, the world is in a very dark time right now but god damn I thought this was a place had more variety to it....\"}, {\"from\": \"gpt\", \"value\": \"Its a sub for ranting, not really sure what you expect. Maybe give then some advice? Sorry if this seems aggressive\"}]}\n",
      "{\"conversations\": [{\"from\": \"human\", \"value\": \"This sub is depressing as fuck. I get it's a mental health sub but every post that pops up in my feed is \\\"I'm going to kill mysef\\\" \\nIs this a sub for people to post that they're going to kill themselves and this is their last place to go to? It's crazy the amount of posts I see like this and I get it, the world is in a very dark time right now but god damn I thought this was a place had more variety to it....\"}, {\"from\": \"gpt\", \"value\": \"It had variety earlier. Lately (since 2020) it has been this way.\"}]}\n",
      "{\"conversations\": [{\"from\": \"human\", \"value\": \"This sub is depressing as fuck. I get it's a mental health sub but every post that pops up in my feed is \\\"I'm going to kill mysef\\\" \\nIs this a sub for people to post that they're going to kill themselves and this is their last place to go to? It's crazy the amount of posts I see like this and I get it, the world is in a very dark time right now but god damn I thought this was a place had more variety to it....\"}, {\"from\": \"gpt\", \"value\": \"I think it's kinda funny that while I read this on my feed directly under it is a post going \\\"I'm gonna kill myself soon\\\". The irony\"}]}\n",
      "{\"conversations\": [{\"from\": \"human\", \"value\": \"This sub is depressing as fuck. I get it's a mental health sub but every post that pops up in my feed is \\\"I'm going to kill mysef\\\" \\nIs this a sub for people to post that they're going to kill themselves and this is their last place to go to? It's crazy the amount of posts I see like this and I get it, the world is in a very dark time right now but god damn I thought this was a place had more variety to it....\"}, {\"from\": \"gpt\", \"value\": \"They should add a \\\"suicide\\\" flair so that people can hide the posts if they want to.\"}]}\n",
      "{\"conversations\": [{\"from\": \"human\", \"value\": \"This sub is depressing as fuck. I get it's a mental health sub but every post that pops up in my feed is \\\"I'm going to kill mysef\\\" \\nIs this a sub for people to post that they're going to kill themselves and this is their last place to go to? It's crazy the amount of posts I see like this and I get it, the world is in a very dark time right now but god damn I thought this was a place had more variety to it....\"}, {\"from\": \"gpt\", \"value\": \"It's getting to the boy who cried wolf. It should be for someone who is really on the edge.\\nIf one day these threads are banned, someone might end it when they could have been helped.\"}]}\n",
      "{\"conversations\": [{\"from\": \"human\", \"value\": \"When I\\u2019m with people, I want to be alone. When I\\u2019m alone, I want to be with people. \\n.\"}, {\"from\": \"gpt\", \"value\": \"We're like cats. What we don't have we want. And once we have it, we're not happy. It's tough.\"}]}\n",
      "{\"conversations\": [{\"from\": \"human\", \"value\": \"When I\\u2019m with people, I want to be alone. When I\\u2019m alone, I want to be with people. \\n.\"}, {\"from\": \"gpt\", \"value\": \"Personally, it is a similar feeling, though I think I just want someone to exist without a particularly saying anything as we sit in silence doing our own thing. \\ud83d\\ude05\"}]}\n"
     ]
    }
   ],
   "source": [
    "!head {outfile}"
   ]
  },
  {
   "cell_type": "code",
   "execution_count": 96,
   "id": "4d8098e9-378e-415d-a33d-03560fa82dd1",
   "metadata": {},
   "outputs": [
    {
     "name": "stdout",
     "output_type": "stream",
     "text": [
      "reddit.jsonl  video_transcripts.jsonl  web_content.jsonl\n"
     ]
    }
   ],
   "source": [
    "!ls *.jsonl"
   ]
  },
  {
   "cell_type": "code",
   "execution_count": 100,
   "id": "dabe1696-697d-49f6-9dfe-e5b28f262201",
   "metadata": {},
   "outputs": [],
   "source": [
    "import glob\n",
    "\n",
    "ds = []\n",
    "for fname in glob.glob(\"*.jsonl\"):\n",
    "    with open(fname) as f:\n",
    "        ds.extend(json.loads(l) for l in f.readlines()) \n",
    "\n",
    "with open(\"convos.json\", 'w') as f:\n",
    "    json.dump(ds, f)"
   ]
  },
  {
   "cell_type": "code",
   "execution_count": 101,
   "id": "1fdc72c8-c792-48f9-b2b7-f999804fc07d",
   "metadata": {},
   "outputs": [
    {
     "name": "stderr",
     "output_type": "stream",
     "text": [
      "Downloading data files: 100%|██████████| 1/1 [00:00<00:00, 6523.02it/s]\n",
      "Extracting data files: 100%|██████████| 1/1 [00:00<00:00, 1189.54it/s]\n",
      "Generating train split: 1573 examples [00:00, 5845.86 examples/s]\n"
     ]
    }
   ],
   "source": [
    "dataset = load_dataset(\".\",  data_files=[\"convos.json\"])"
   ]
  },
  {
   "cell_type": "code",
   "execution_count": 102,
   "id": "0d045a03-5548-417b-865a-c1d9bed5b38b",
   "metadata": {},
   "outputs": [
    {
     "data": {
      "text/plain": [
       "1573"
      ]
     },
     "execution_count": 102,
     "metadata": {},
     "output_type": "execute_result"
    }
   ],
   "source": [
    "len(dataset['train'])"
   ]
  },
  {
   "cell_type": "code",
   "execution_count": 119,
   "id": "118a9064-504d-44ea-9d96-aa105a059437",
   "metadata": {},
   "outputs": [
    {
     "name": "stderr",
     "output_type": "stream",
     "text": [
      "Pushing dataset shards to the dataset hub:   0%|          | 0/1 [00:00<?, ?it/s]\n",
      "Creating parquet from Arrow format: 100%|██████████| 2/2 [00:00<00:00, 34.34ba/s]\n",
      "Pushing dataset shards to the dataset hub: 100%|██████████| 1/1 [00:01<00:00,  1.01s/it]\n",
      "Deleting unused files from dataset repository: 100%|██████████| 1/1 [00:00<00:00,  8.94it/s]\n",
      "Downloading metadata: 100%|██████████| 559/559 [00:00<00:00, 3.49MB/s]\n"
     ]
    }
   ],
   "source": [
    "dataset.push_to_hub(\"devxpy/therapychat\")"
   ]
  },
  {
   "cell_type": "code",
   "execution_count": 118,
   "id": "474ef62c-0668-4138-8ba9-cb0f7b343874",
   "metadata": {},
   "outputs": [
    {
     "data": {
      "text/plain": [
       "[[{'from': 'human',\n",
       "   'value': 'This sub is depressing as fuck. I get it\\'s a mental health sub but every post that pops up in my feed is \"I\\'m going to kill mysef\" \\nIs this a sub for people to post that they\\'re going to kill themselves and this is their last place to go to? It\\'s crazy the amount of posts I see like this and I get it, the world is in a very dark time right now but god damn I thought this was a place had more variety to it....'},\n",
       "  {'from': 'gpt',\n",
       "   'value': \"Seconded I'm a very sensitive person and reading a couple of posts titles similar to this in one setting is just not for me..\\nI might just leave this community as well lol\"}],\n",
       " [{'from': 'human',\n",
       "   'value': 'This sub is depressing as fuck. I get it\\'s a mental health sub but every post that pops up in my feed is \"I\\'m going to kill mysef\" \\nIs this a sub for people to post that they\\'re going to kill themselves and this is their last place to go to? It\\'s crazy the amount of posts I see like this and I get it, the world is in a very dark time right now but god damn I thought this was a place had more variety to it....'},\n",
       "  {'from': 'gpt',\n",
       "   'value': 'I swear every time I scroll my feed I see a \"I\\'m gonna kill myself\" post at least once from this sub. I don\\'t think the mods are very active, and while I enjoy the more free speech we get from that, I feel like they would\\'ve done something about it by now.'}],\n",
       " [{'from': 'human',\n",
       "   'value': 'This sub is depressing as fuck. I get it\\'s a mental health sub but every post that pops up in my feed is \"I\\'m going to kill mysef\" \\nIs this a sub for people to post that they\\'re going to kill themselves and this is their last place to go to? It\\'s crazy the amount of posts I see like this and I get it, the world is in a very dark time right now but god damn I thought this was a place had more variety to it....'},\n",
       "  {'from': 'gpt',\n",
       "   'value': \"I know what you mean, there are quite a few suicidal posts (especially recently).\\nThere's also /r/SuicideWatch which seems pretty active, but I guess some prefer to post to this sub.\"}],\n",
       " [{'from': 'human',\n",
       "   'value': 'This sub is depressing as fuck. I get it\\'s a mental health sub but every post that pops up in my feed is \"I\\'m going to kill mysef\" \\nIs this a sub for people to post that they\\'re going to kill themselves and this is their last place to go to? It\\'s crazy the amount of posts I see like this and I get it, the world is in a very dark time right now but god damn I thought this was a place had more variety to it....'},\n",
       "  {'from': 'gpt',\n",
       "   'value': 'Its a sub for ranting, not really sure what you expect. Maybe give then some advice? Sorry if this seems aggressive'}],\n",
       " [{'from': 'human',\n",
       "   'value': 'This sub is depressing as fuck. I get it\\'s a mental health sub but every post that pops up in my feed is \"I\\'m going to kill mysef\" \\nIs this a sub for people to post that they\\'re going to kill themselves and this is their last place to go to? It\\'s crazy the amount of posts I see like this and I get it, the world is in a very dark time right now but god damn I thought this was a place had more variety to it....'},\n",
       "  {'from': 'gpt',\n",
       "   'value': 'It had variety earlier. Lately (since 2020) it has been this way.'}],\n",
       " [{'from': 'human',\n",
       "   'value': 'This sub is depressing as fuck. I get it\\'s a mental health sub but every post that pops up in my feed is \"I\\'m going to kill mysef\" \\nIs this a sub for people to post that they\\'re going to kill themselves and this is their last place to go to? It\\'s crazy the amount of posts I see like this and I get it, the world is in a very dark time right now but god damn I thought this was a place had more variety to it....'},\n",
       "  {'from': 'gpt',\n",
       "   'value': 'I think it\\'s kinda funny that while I read this on my feed directly under it is a post going \"I\\'m gonna kill myself soon\". The irony'}],\n",
       " [{'from': 'human',\n",
       "   'value': 'This sub is depressing as fuck. I get it\\'s a mental health sub but every post that pops up in my feed is \"I\\'m going to kill mysef\" \\nIs this a sub for people to post that they\\'re going to kill themselves and this is their last place to go to? It\\'s crazy the amount of posts I see like this and I get it, the world is in a very dark time right now but god damn I thought this was a place had more variety to it....'},\n",
       "  {'from': 'gpt',\n",
       "   'value': 'They should add a \"suicide\" flair so that people can hide the posts if they want to.'}],\n",
       " [{'from': 'human',\n",
       "   'value': 'This sub is depressing as fuck. I get it\\'s a mental health sub but every post that pops up in my feed is \"I\\'m going to kill mysef\" \\nIs this a sub for people to post that they\\'re going to kill themselves and this is their last place to go to? It\\'s crazy the amount of posts I see like this and I get it, the world is in a very dark time right now but god damn I thought this was a place had more variety to it....'},\n",
       "  {'from': 'gpt',\n",
       "   'value': \"It's getting to the boy who cried wolf. It should be for someone who is really on the edge.\\nIf one day these threads are banned, someone might end it when they could have been helped.\"}],\n",
       " [{'from': 'human',\n",
       "   'value': 'When I’m with people, I want to be alone. When I’m alone, I want to be with people. \\n.'},\n",
       "  {'from': 'gpt',\n",
       "   'value': \"We're like cats. What we don't have we want. And once we have it, we're not happy. It's tough.\"}],\n",
       " [{'from': 'human',\n",
       "   'value': 'When I’m with people, I want to be alone. When I’m alone, I want to be with people. \\n.'},\n",
       "  {'from': 'gpt',\n",
       "   'value': 'Personally, it is a similar feeling, though I think I just want someone to exist without a particularly saying anything as we sit in silence doing our own thing. 😅'}]]"
      ]
     },
     "execution_count": 118,
     "metadata": {},
     "output_type": "execute_result"
    }
   ],
   "source": [
    "dataset['train'][\"conversations\"][:10]"
   ]
  },
  {
   "cell_type": "code",
   "execution_count": null,
   "id": "10baed8b-eb0c-42fe-97a7-b27116cb43b0",
   "metadata": {},
   "outputs": [],
   "source": []
  },
  {
   "cell_type": "code",
   "execution_count": null,
   "id": "82d9f0ed-c756-4075-a0ca-0f2b18a5de68",
   "metadata": {},
   "outputs": [],
   "source": []
  }
 ],
 "metadata": {
  "kernelspec": {
   "display_name": "Python 3 (ipykernel)",
   "language": "python",
   "name": "python3"
  },
  "language_info": {
   "codemirror_mode": {
    "name": "ipython",
    "version": 3
   },
   "file_extension": ".py",
   "mimetype": "text/x-python",
   "name": "python",
   "nbconvert_exporter": "python",
   "pygments_lexer": "ipython3",
   "version": "3.8.10"
  }
 },
 "nbformat": 4,
 "nbformat_minor": 5
}
